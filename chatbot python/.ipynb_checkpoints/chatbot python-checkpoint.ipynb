{
 "cells": [
  {
   "cell_type": "markdown",
   "id": "144872ae",
   "metadata": {},
   "source": [
    "# Para visualizar os ambientes virtuais criados no Anaconda, você pode seguir os seguintes passos:\n",
    "\n",
    "Abra o Prompt de Anaconda ou o Anaconda Navigator.\n",
    "No Prompt de Anaconda, digite o comando a seguir e pressione Enter:\n",
    "\n",
    "### conda info --envs\n",
    "Isso irá listar todos os ambientes virtuais criados no seu sistema. Os ambientes virtuais estarão listados sob a coluna \"Name\".\n",
    "No Anaconda Navigator, clique na guia \"Ambientes\" no painel esquerdo. Isso exibirá uma lista de todos os ambientes virtuais criados.\n",
    "Nessa lista, você pode visualizar os nomes dos ambientes virtuais, bem como informações adicionais, como versões do Python e pacotes instalados.\n",
    "Dessa forma, você pode ver os ambientes virtuais criados no Anaconda e selecionar o ambiente desejado para uso.\n",
    "\n",
    "# Para entrar em um ambiente virtual no Anaconda, você pode seguir os seguintes passos:\n",
    "\n",
    "Abra o Prompt de Anaconda ou o Anaconda Navigator.\n",
    "No Prompt de Anaconda, digite o seguinte comando e pressione Enter para ativar o ambiente virtual desejado:\n",
    "\n",
    "### conda activate NOME_DO_AMBIENTE\n",
    "Substitua \"NOME_DO_AMBIENTE\" pelo nome do ambiente virtual que você deseja ativar.\n",
    "\n",
    "Após executar o comando acima, você entrará no ambiente virtual especificado. O prompt do seu terminal será atualizado para refletir o ambiente virtual ativo.\n",
    "Se você estiver usando o Anaconda Navigator, siga estas etapas:\n",
    "\n",
    "Abra o Anaconda Navigator.\n",
    "Clique na guia \"Ambientes\" no painel esquerdo.\n",
    "Na lista de ambientes virtuais, clique no ambiente que você deseja ativar.\n",
    "Clique no botão \"Abrir Terminal\" ao lado do ambiente selecionado.\n",
    "Isso abrirá um terminal com o ambiente virtual ativo.\n",
    "Ao fazer isso, você estará dentro do ambiente virtual especificado e poderá executar comandos e instalar pacotes específicos para esse ambiente.\n",
    "\n",
    "# Para abrir o Jupyter Notebook usando o Prompt do Anaconda, siga as etapas abaixo:\n",
    "\n",
    "Abra o Prompt do Anaconda.\n",
    "\n",
    "Ative o ambiente virtual no qual você deseja executar o Jupyter Notebook usando o comando conda activate NOME_DO_AMBIENTE. Substitua \"NOME_DO_AMBIENTE\" pelo nome do ambiente virtual desejado.\n",
    "\n",
    "Após ativar o ambiente virtual, digite o seguinte comando e pressione Enter:\n",
    "\n",
    "### jupyter notebook\n",
    "Isso iniciará o servidor do Jupyter Notebook e abrirá uma nova janela ou guia do navegador padrão com a interface do Jupyter Notebook.\n",
    "Você também verá mensagens no Prompt do Anaconda indicando que o servidor do Jupyter Notebook está em execução.\n",
    "É importante certificar-se de que o Jupyter Notebook esteja instalado no ambiente virtual em questão. Caso não esteja instalado, você pode instalá-lo usando o comando conda install jupyter antes de executar o comando jupyter notebook.\n",
    "Lembrando que ao fechar a janela do Jupyter Notebook, o servidor continuará em execução no Prompt do Anaconda. Para encerrar o servidor, basta pressionar Ctrl + C no Prompt do Anaconda.\n"
   ]
  },
  {
   "cell_type": "code",
   "execution_count": 1,
   "id": "e1970f2c",
   "metadata": {},
   "outputs": [
    {
     "name": "stdout",
     "output_type": "stream",
     "text": [
      "✔ Download and installation successful\n",
      "You can now load the package via spacy.load('en_core_web_sm')\n"
     ]
    }
   ],
   "source": [
    "from chatterbot import ChatBot\n",
    "from chatterbot.trainers import ListTrainer\n",
    "\n",
    "#isso aqui só precisa para corrigir o but\n",
    "from spacy.cli import download\n",
    "\n",
    "download('en_core_web_sm')\n",
    "\n",
    "class ENGSM:\n",
    "    ISO_639_1 = 'en_core_web_sm'\n",
    "\n",
    "\n"
   ]
  },
  {
   "cell_type": "code",
   "execution_count": 4,
   "id": "5c60724e",
   "metadata": {},
   "outputs": [
    {
     "name": "stdout",
     "output_type": "stream",
     "text": [
      "List Trainer: [####################] 100%\n"
     ]
    }
   ],
   "source": [
    "chatbot = ChatBot('Botlira', tagger_language=ENGSM)\n",
    "\n",
    "conversa = [\n",
    "    'Coe',\n",
    "    'E aí, tranquilo',\n",
    "    'Tranquilo',\n",
    "    'Qual a boa de hoje?',\n",
    "    'A Hashtage tá ensinando Python e até chatbot',\n",
    "    'Caraca que doidera',\n",
    "    'Maneiro né',\n",
    "    'Irado',\n",
    "    ]\n",
    "trainer = ListTrainer(chatbot)\n",
    "trainer.train(conversa)"
   ]
  },
  {
   "cell_type": "code",
   "execution_count": null,
   "id": "6f582372",
   "metadata": {},
   "outputs": [
    {
     "name": "stdout",
     "output_type": "stream",
     "text": [
      "Mande uma mensagem para o chatbot: coe\n",
      "E aí, tranquilo\n",
      "Mande uma mensagem para o chatbot: e aí, tranquilo\n",
      "Tranquilo\n",
      "Mande uma mensagem para o chatbot: Qual a boa de hoje?\n",
      "A Hashtage tá ensinando Python e até chatbot\n",
      "Mande uma mensagem para o chatbot: Caraca que doidera\n",
      "Maneiro né\n",
      "Mande uma mensagem para o chatbot: Irado\n",
      "Maneiro né\n"
     ]
    }
   ],
   "source": [
    "while True:\n",
    "    mensagem = input(\"Mande uma mensagem para o chatbot: \")\n",
    "    if mensagem == 'parar':\n",
    "        break\n",
    "    resposta = chatbot.get_response(mensagem)\n",
    "    print(resposta)\n",
    "    \n"
   ]
  },
  {
   "cell_type": "code",
   "execution_count": 3,
   "id": "51305dd9",
   "metadata": {},
   "outputs": [],
   "source": [
    "chatbot.storage.drop()\n"
   ]
  },
  {
   "cell_type": "code",
   "execution_count": null,
   "id": "8ea6a728",
   "metadata": {},
   "outputs": [],
   "source": []
  }
 ],
 "metadata": {
  "kernelspec": {
   "display_name": "Python 3 (ipykernel)",
   "language": "python",
   "name": "python3"
  },
  "language_info": {
   "codemirror_mode": {
    "name": "ipython",
    "version": 3
   },
   "file_extension": ".py",
   "mimetype": "text/x-python",
   "name": "python",
   "nbconvert_exporter": "python",
   "pygments_lexer": "ipython3",
   "version": "3.6.13"
  }
 },
 "nbformat": 4,
 "nbformat_minor": 5
}
